{
 "cells": [
  {
   "cell_type": "markdown",
   "metadata": {},
   "source": [
    "- Pandas is Python package for data manipulation. We can use it for data visulaization as well. \n",
    "- DataFrames form the core of pandas\n",
    "- Pandas enables: 1) Sorting & Subsettings; 2) Aggregation of Data (e.g., summary statistics, counting, and grouped summary statistics); 3) Slicing and Indexing Data; and 4) Creating and Visulization Data (e.g., plotting, and handling missing data)\n",
    "\n",
    "- Pandas is built on top of two essential Python packages, NumPy and Matplotlib. NumPy provides multidimentional array objects for easy data manipulation (pandas uses these objects to strore data). Mtplolib has powerful data visulization capabilities.\n",
    "\n",
    "- Pandas is very popular. ~14 millions downloads in December 2019 "
   ]
  },
  {
   "cell_type": "markdown",
   "metadata": {},
   "source": [
    "The most common way of storing data for analysis is \"tabular data \" (rectangular data)\n",
    "- Each observation is a row\n",
    "- Each variable (feature) is a column\n",
    "Pandas is designed to work with rectangular data. In pandas rectangular data is represented as a DataFrame object\n"
   ]
  },
  {
   "cell_type": "code",
   "execution_count": 7,
   "metadata": {},
   "outputs": [],
   "source": [
    "import matplotlib.pyplot as plt\n",
    "import pandas as pd"
   ]
  },
  {
   "cell_type": "code",
   "execution_count": 3,
   "metadata": {},
   "outputs": [],
   "source": [
    "# Read in the data with pandas\n",
    "# read_csv reads a comma-separated values (csv) file into DataFrame. \n",
    "# https://pandas.pydata.org/docs/reference/api/pandas.read_csv.html \n",
    "\n",
    "possum_data = pd.read_csv('possum.csv')   # import the data from a csv file\n"
   ]
  },
  {
   "cell_type": "code",
   "execution_count": 4,
   "metadata": {},
   "outputs": [
    {
     "data": {
      "text/html": [
       "<div>\n",
       "<style scoped>\n",
       "    .dataframe tbody tr th:only-of-type {\n",
       "        vertical-align: middle;\n",
       "    }\n",
       "\n",
       "    .dataframe tbody tr th {\n",
       "        vertical-align: top;\n",
       "    }\n",
       "\n",
       "    .dataframe thead th {\n",
       "        text-align: right;\n",
       "    }\n",
       "</style>\n",
       "<table border=\"1\" class=\"dataframe\">\n",
       "  <thead>\n",
       "    <tr style=\"text-align: right;\">\n",
       "      <th></th>\n",
       "      <th>sex</th>\n",
       "      <th>age</th>\n",
       "      <th>headL</th>\n",
       "      <th>skullW</th>\n",
       "      <th>totalL</th>\n",
       "      <th>tailL</th>\n",
       "    </tr>\n",
       "  </thead>\n",
       "  <tbody>\n",
       "    <tr>\n",
       "      <td>0</td>\n",
       "      <td>m</td>\n",
       "      <td>8</td>\n",
       "      <td>94.1</td>\n",
       "      <td>60.4</td>\n",
       "      <td>89.0</td>\n",
       "      <td>36.0</td>\n",
       "    </tr>\n",
       "    <tr>\n",
       "      <td>1</td>\n",
       "      <td>f</td>\n",
       "      <td>6</td>\n",
       "      <td>92.5</td>\n",
       "      <td>57.6</td>\n",
       "      <td>91.5</td>\n",
       "      <td>36.5</td>\n",
       "    </tr>\n",
       "    <tr>\n",
       "      <td>2</td>\n",
       "      <td>f</td>\n",
       "      <td>6</td>\n",
       "      <td>94.0</td>\n",
       "      <td>60.0</td>\n",
       "      <td>95.5</td>\n",
       "      <td>39.0</td>\n",
       "    </tr>\n",
       "    <tr>\n",
       "      <td>3</td>\n",
       "      <td>f</td>\n",
       "      <td>6</td>\n",
       "      <td>93.2</td>\n",
       "      <td>57.1</td>\n",
       "      <td>92.0</td>\n",
       "      <td>38.0</td>\n",
       "    </tr>\n",
       "    <tr>\n",
       "      <td>4</td>\n",
       "      <td>f</td>\n",
       "      <td>2</td>\n",
       "      <td>91.5</td>\n",
       "      <td>56.3</td>\n",
       "      <td>85.5</td>\n",
       "      <td>36.0</td>\n",
       "    </tr>\n",
       "  </tbody>\n",
       "</table>\n",
       "</div>"
      ],
      "text/plain": [
       "  sex  age  headL  skullW  totalL  tailL\n",
       "0   m    8   94.1    60.4    89.0   36.0\n",
       "1   f    6   92.5    57.6    91.5   36.5\n",
       "2   f    6   94.0    60.0    95.5   39.0\n",
       "3   f    6   93.2    57.1    92.0   38.0\n",
       "4   f    2   91.5    56.3    85.5   36.0"
      ]
     },
     "execution_count": 4,
     "metadata": {},
     "output_type": "execute_result"
    }
   ],
   "source": [
    "possum_data.head()  # display the first 5 entries (raws)"
   ]
  },
  {
   "cell_type": "code",
   "execution_count": 5,
   "metadata": {
    "scrolled": true
   },
   "outputs": [
    {
     "data": {
      "text/html": [
       "<div>\n",
       "<style scoped>\n",
       "    .dataframe tbody tr th:only-of-type {\n",
       "        vertical-align: middle;\n",
       "    }\n",
       "\n",
       "    .dataframe tbody tr th {\n",
       "        vertical-align: top;\n",
       "    }\n",
       "\n",
       "    .dataframe thead th {\n",
       "        text-align: right;\n",
       "    }\n",
       "</style>\n",
       "<table border=\"1\" class=\"dataframe\">\n",
       "  <thead>\n",
       "    <tr style=\"text-align: right;\">\n",
       "      <th></th>\n",
       "      <th>age</th>\n",
       "      <th>headL</th>\n",
       "      <th>skullW</th>\n",
       "      <th>totalL</th>\n",
       "      <th>tailL</th>\n",
       "    </tr>\n",
       "  </thead>\n",
       "  <tbody>\n",
       "    <tr>\n",
       "      <td>count</td>\n",
       "      <td>46.000000</td>\n",
       "      <td>46.000000</td>\n",
       "      <td>46.000000</td>\n",
       "      <td>46.000000</td>\n",
       "      <td>46.000000</td>\n",
       "    </tr>\n",
       "    <tr>\n",
       "      <td>mean</td>\n",
       "      <td>3.956522</td>\n",
       "      <td>92.310870</td>\n",
       "      <td>56.489130</td>\n",
       "      <td>88.095652</td>\n",
       "      <td>36.332609</td>\n",
       "    </tr>\n",
       "    <tr>\n",
       "      <td>std</td>\n",
       "      <td>2.086534</td>\n",
       "      <td>2.929333</td>\n",
       "      <td>2.022235</td>\n",
       "      <td>6.842415</td>\n",
       "      <td>3.331336</td>\n",
       "    </tr>\n",
       "    <tr>\n",
       "      <td>min</td>\n",
       "      <td>1.000000</td>\n",
       "      <td>84.700000</td>\n",
       "      <td>51.500000</td>\n",
       "      <td>75.000000</td>\n",
       "      <td>32.000000</td>\n",
       "    </tr>\n",
       "    <tr>\n",
       "      <td>25%</td>\n",
       "      <td>2.000000</td>\n",
       "      <td>91.100000</td>\n",
       "      <td>55.100000</td>\n",
       "      <td>84.625000</td>\n",
       "      <td>35.000000</td>\n",
       "    </tr>\n",
       "    <tr>\n",
       "      <td>50%</td>\n",
       "      <td>3.000000</td>\n",
       "      <td>92.850000</td>\n",
       "      <td>56.300000</td>\n",
       "      <td>89.000000</td>\n",
       "      <td>36.000000</td>\n",
       "    </tr>\n",
       "    <tr>\n",
       "      <td>75%</td>\n",
       "      <td>5.000000</td>\n",
       "      <td>94.400000</td>\n",
       "      <td>57.825000</td>\n",
       "      <td>90.875000</td>\n",
       "      <td>36.875000</td>\n",
       "    </tr>\n",
       "    <tr>\n",
       "      <td>max</td>\n",
       "      <td>9.000000</td>\n",
       "      <td>96.300000</td>\n",
       "      <td>60.400000</td>\n",
       "      <td>120.400000</td>\n",
       "      <td>55.300000</td>\n",
       "    </tr>\n",
       "  </tbody>\n",
       "</table>\n",
       "</div>"
      ],
      "text/plain": [
       "             age      headL     skullW      totalL      tailL\n",
       "count  46.000000  46.000000  46.000000   46.000000  46.000000\n",
       "mean    3.956522  92.310870  56.489130   88.095652  36.332609\n",
       "std     2.086534   2.929333   2.022235    6.842415   3.331336\n",
       "min     1.000000  84.700000  51.500000   75.000000  32.000000\n",
       "25%     2.000000  91.100000  55.100000   84.625000  35.000000\n",
       "50%     3.000000  92.850000  56.300000   89.000000  36.000000\n",
       "75%     5.000000  94.400000  57.825000   90.875000  36.875000\n",
       "max     9.000000  96.300000  60.400000  120.400000  55.300000"
      ]
     },
     "execution_count": 5,
     "metadata": {},
     "output_type": "execute_result"
    }
   ],
   "source": [
    "possum_data.describe()  # Generate descriptive statistics "
   ]
  },
  {
   "cell_type": "code",
   "execution_count": null,
   "metadata": {},
   "outputs": [],
   "source": [
    "# The 25th percentile is the value at which 25% of the answers lie below that value"
   ]
  },
  {
   "cell_type": "code",
   "execution_count": 10,
   "metadata": {},
   "outputs": [
    {
     "data": {
      "image/png": "[encoded data removed]",
      "text/plain": [
       "<Figure size 432x288 with 1 Axes>"
      ]
     },
     "metadata": {
      "needs_background": "light"
     },
     "output_type": "display_data"
    }
   ],
   "source": [
    "# Plot the relationship between teh data points (variables) using pandas\n",
    "possum_data.plot(x='age', y='headL', kind='scatter') # we are using pandas to make a scatterplot\n",
    "plt.title('Head Length vs. Age') # set the title\n",
    "plt.show() # show the generated plot"
   ]
  },
  {
   "cell_type": "code",
   "execution_count": 11,
   "metadata": {},
   "outputs": [
    {
     "name": "stdout",
     "output_type": "stream",
     "text": [
      "<class 'pandas.core.frame.DataFrame'>\n",
      "RangeIndex: 46 entries, 0 to 45\n",
      "Data columns (total 6 columns):\n",
      "sex       46 non-null object\n",
      "age       46 non-null int64\n",
      "headL     46 non-null float64\n",
      "skullW    46 non-null float64\n",
      "totalL    46 non-null float64\n",
      "tailL     46 non-null float64\n",
      "dtypes: float64(4), int64(1), object(1)\n",
      "memory usage: 2.3+ KB\n"
     ]
    }
   ],
   "source": [
    "possum_data.info()  # Print a concise summary of a DataFrame."
   ]
  },
  {
   "cell_type": "code",
   "execution_count": 12,
   "metadata": {},
   "outputs": [
    {
     "data": {
      "text/plain": [
       "Index(['sex', 'age', 'headL', 'skullW', 'totalL', 'tailL'], dtype='object')"
      ]
     },
     "execution_count": 12,
     "metadata": {},
     "output_type": "execute_result"
    }
   ],
   "source": [
    "possum_data.columns   # Describe dataframe columns (The column labels of the DataFrame)"
   ]
  }
 ],
 "metadata": {
  "kernelspec": {
   "display_name": "Python 3 (ipykernel)",
   "language": "python",
   "name": "python3"
  },
  "language_info": {
   "codemirror_mode": {
    "name": "ipython",
    "version": 3
   },
   "file_extension": ".py",
   "mimetype": "text/x-python",
   "name": "python",
   "nbconvert_exporter": "python",
   "pygments_lexer": "ipython3",
   "version": "3.11.5"
  }
 },
 "nbformat": 4,
 "nbformat_minor": 2
}
